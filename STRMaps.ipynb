{
 "cells": [
  {
   "cell_type": "markdown",
   "id": "40b11d96-6004-497f-b465-caf0883aa86d",
   "metadata": {},
   "source": [
    "# STRMaps\n",
    "\n",
    "You can view the map at https://s3.amazonaws.com/filestogeaux.garyscorner.net/pub/STRMap.html FOR NOW\n",
    "File will remain at s3://requesterpays.garyscorner.net/datasets/html/  (requester pays use AWS CLI [--request-payer requester])\n",
    "\n",
    "Datasets:\n",
    "* https://data.nola.gov/Housing-Land-Use-and-Blight/Map-of-Short-Term-Rental-Licenses/j5u3-2ueh"
   ]
  },
  {
   "cell_type": "code",
   "execution_count": 1,
   "id": "87492c57-5020-42fc-98b2-c95bc3d9d8fb",
   "metadata": {},
   "outputs": [],
   "source": [
    "import pandas as pd\n",
    "import folium\n",
    "import numpy as np\n",
    "import folium.plugins\n",
    "\n",
    "from io import StringIO\n",
    "\n",
    "from json import JSONEncoder\n",
    "encoder = JSONEncoder().encode\n",
    "\n",
    "from datetime import datetime"
   ]
  },
  {
   "cell_type": "code",
   "execution_count": 2,
   "id": "a4ef804d-e611-47ff-8fe6-f6e6a253c021",
   "metadata": {},
   "outputs": [
    {
     "name": "stderr",
     "output_type": "stream",
     "text": [
      "  % Total    % Received % Xferd  Average Speed   Time    Time     Time  Current\n",
      "                                 Dload  Upload   Total   Spent    Left  Speed\n",
      "\n",
      "  0     0    0     0    0     0      0      0 --:--:-- --:--:-- --:--:--     0\n",
      "  0     0    0     0    0     0      0      0 --:--:-- --:--:-- --:--:--     0\n",
      "100 4526k    0 4526k    0     0  2684k      0 --:--:--  0:00:01 --:--:-- 2686k\n",
      "100 9301k    0 9301k    0     0  3751k      0 --:--:--  0:00:02 --:--:-- 3753k\n"
     ]
    }
   ],
   "source": [
    "! curl https://data.nola.gov/api/views/en36-xvxg/rows.csv?accessType=DOWNLOAD -o DataSets\\Short-Term_Rental_Permit_Applications.csv"
   ]
  },
  {
   "cell_type": "code",
   "execution_count": 3,
   "id": "ee503b51-bf0c-463d-b754-554fb952ae12",
   "metadata": {},
   "outputs": [],
   "source": [
    "strDf = pd.read_csv(\"./DataSets/Short-Term_Rental_Permit_Applications.csv\")"
   ]
  },
  {
   "cell_type": "code",
   "execution_count": 4,
   "id": "ebfaeca9-755d-4676-bdd2-30dad2b2eeb9",
   "metadata": {},
   "outputs": [],
   "source": [
    "#drop without location\n",
    "strDf = strDf[ strDf['X'] > 0.0]"
   ]
  },
  {
   "cell_type": "code",
   "execution_count": 5,
   "id": "4138b28c-3c6b-48d1-97d8-2b95adc47657",
   "metadata": {},
   "outputs": [],
   "source": [
    "strDf.drop(columns=['X','Y', 'Link'],inplace=True)"
   ]
  },
  {
   "cell_type": "code",
   "execution_count": 6,
   "id": "764788f3-eb63-4c1b-ad78-4bd95999e253",
   "metadata": {},
   "outputs": [],
   "source": [
    "#drop dups and withdrawn\n",
    "strDf = strDf[ ~(strDf['Current Status'].isin(['Duplicate','Withdrawn'])) ]"
   ]
  },
  {
   "cell_type": "code",
   "execution_count": 7,
   "id": "9f8c380b-1375-49dd-a1e2-7107fd35be72",
   "metadata": {},
   "outputs": [
    {
     "data": {
      "text/plain": [
       "array(['Pending', 'Revoked', 'Denied', 'Expired', 'Issued'], dtype=object)"
      ]
     },
     "execution_count": 7,
     "metadata": {},
     "output_type": "execute_result"
    }
   ],
   "source": [
    "strDf['Current Status'].unique()"
   ]
  },
  {
   "cell_type": "code",
   "execution_count": 8,
   "id": "c0a56dbd-45d0-46a5-966e-1aacf8d9664e",
   "metadata": {},
   "outputs": [],
   "source": [
    "#this is done in javascript now\n",
    "#strDf['Link'] = strDf['Link'].map(lambda url:  f\"<a target='_blank' href='{url}'>One Stop App</a>\")"
   ]
  },
  {
   "cell_type": "code",
   "execution_count": 9,
   "id": "a5e6d3cb-1548-4bde-8f17-e8a680acde12",
   "metadata": {},
   "outputs": [
    {
     "name": "stdout",
     "output_type": "stream",
     "text": [
      "Wall time: 52.9 ms\n"
     ]
    }
   ],
   "source": [
    "%%time\n",
    "\n",
    "def getPoints(val):\n",
    "    try:\n",
    "        \n",
    "        lat,lon = val[1:-1].split(', ')\n",
    "        lon = float(lon)\n",
    "        lat = float(lat)\n",
    "        pt = (lat,lon)\n",
    "        \n",
    "    except Exception as e:\n",
    "        print(val)\n",
    "        raise(e)\n",
    "        \n",
    "    return pt\n",
    "\n",
    "strDf['Location'] = strDf['Location'].map(getPoints)\n"
   ]
  },
  {
   "cell_type": "code",
   "execution_count": 10,
   "id": "69e2b4d0-a5d3-46cf-811b-84ede43633c5",
   "metadata": {},
   "outputs": [],
   "source": [
    "#now done in javascript\n",
    "#strDf['Address'] = strDf.apply(lambda a: f\"<a target='_blank' href='http://maps.google.com/maps?q=&layer=c&cbll={a['Location'][0]},{a['Location'][1]}'>{a['Address']}</a>\",axis=1)"
   ]
  },
  {
   "cell_type": "code",
   "execution_count": 11,
   "id": "90db0ad9-b3be-428e-b730-770b2b099383",
   "metadata": {},
   "outputs": [
    {
     "data": {
      "text/plain": [
       "Expired    14245\n",
       "Denied      7429\n",
       "Pending     4005\n",
       "Issued      2337\n",
       "Revoked      143\n",
       "Name: Current Status, dtype: int64"
      ]
     },
     "execution_count": 11,
     "metadata": {},
     "output_type": "execute_result"
    }
   ],
   "source": [
    "strDf['Current Status'].value_counts()"
   ]
  },
  {
   "cell_type": "code",
   "execution_count": 12,
   "id": "e2f793b9-102c-41cc-b15d-e026f9d5f075",
   "metadata": {},
   "outputs": [],
   "source": [
    "statusList = list(np.unique(strDf['Current Status']))"
   ]
  },
  {
   "cell_type": "raw",
   "id": "df8a682d-77cc-4c2d-a11d-5ebe1d5cfbd5",
   "metadata": {},
   "source": [
    "%%time\n",
    "\n",
    "def getPopStr(row):\n",
    "    \n",
    "    popStr = \"<table>\"\n",
    "    for key in row.keys():\n",
    "        val = row[key] if not pd.isna(row[key]) else ''\n",
    "        \n",
    "        popStr += \"<tr style='border-bottom-width:1px'><td>%s</td> <td>%s</td></tr>\" % (key,val)\n",
    "        \n",
    "    \n",
    "    popStr += \"</table>\"\n",
    "    \n",
    "    return popStr\n",
    "\n",
    "\n",
    "map = folium.Map(location=[29.99532,-89.99836], \\\n",
    "                 zoom_start=12)\n",
    "\n",
    "for status in statusList:\n",
    "    mask = strDf['Current Status'] == status\n",
    "    markers = folium.plugins.MarkerCluster(locations=strDf['Location'][mask].iloc[:2].to_list(), \\\n",
    "                                           popups=strDf[mask].iloc[:2].apply(getPopStr, axis=1).to_list(), \\\n",
    "                                           name=status, \\\n",
    "                                           show=False, \\\n",
    "                                           chunkedLoading=True).add_to(map)\n",
    "\n",
    "markers = folium.plugins.MarkerCluster(locations=strDf['Location'].iloc[:5].to_list(), \\\n",
    "                                           popups=strDf.iloc[:5].apply(getPopStr, axis=1).to_list(), \\\n",
    "                                           name='All', \\\n",
    "                                           show=True, \\\n",
    "                                           chunkedLoading=True).add_to(map)\n",
    "\n",
    "\n",
    "folium.LayerControl().add_to(map)\n",
    "pass"
   ]
  },
  {
   "cell_type": "raw",
   "id": "3dcdeaa3-42c0-4d26-96a2-b1fe23e944bd",
   "metadata": {},
   "source": [
    "title_html = f'''\n",
    "<div style=\"margin-left:25%;width:50%;float:left\">\n",
    "        <h3 align=\"center\" style=\"font-size:16px\"><b>Map of STR License Applications</b></h3>\n",
    "        <h3 align=\"center\" style=\"font-size:12px\">(Including Issued/Expired/Denied/Pending/Revoked [use layers to select for currently issued])</h3>\n",
    "</div>\n",
    "<div style=\"float:right;width:25%;\">\n",
    "        <p align=\"right\" style=\"font-size:10px\">\n",
    "            This is map is for contact info only, this is not an analysis!<br />\n",
    "            <a href=\"https://github.com/GarysCorner/NewORleansSTR\" target=\"_blank\">GitHub Project and More Info</a><br />\n",
    "             Dataset:  <a target=\"_blank\" href=\"https://data.nola.gov/Housing-Land-Use-and-Blight/Map-of-Short-Term-Rental-Licenses/j5u3-2ueh\">https://data.nola.gov/Housing-Land-Use-and-Blight/Map-of-Short-Term-Rental-Licenses/j5u3-2ueh</a><br />\n",
    "             Last Update:  {datetime.now()}\n",
    "        </p>\n",
    "</div>\n",
    "<div style=\"clear:both\"></div>\n",
    "             '''\n",
    "#I just stold this from slashdot I usually dont do that but I need to add some context ASAP\n",
    "map.get_root().html.add_child(folium.Element(title_html))"
   ]
  },
  {
   "cell_type": "code",
   "execution_count": 13,
   "id": "80bc8c5f-1eab-4ae4-9c63-bdfc344daeff",
   "metadata": {},
   "outputs": [],
   "source": [
    "#you can uncomment that to see the map in this notebook but the notebook will balloon to 85 mb\n",
    "#map"
   ]
  },
  {
   "cell_type": "raw",
   "id": "019fc717-54a5-467d-a780-c94610bf2bce",
   "metadata": {
    "tags": []
   },
   "source": [
    "%%time\n",
    "map.save('STRMapTemplateNew.html')"
   ]
  },
  {
   "cell_type": "code",
   "execution_count": 14,
   "id": "77766932-05d3-46c1-a073-7ce8898c2384",
   "metadata": {},
   "outputs": [],
   "source": [
    "colMap = {\n",
    "    'Guest Occupancy Limit':'Guest Limit',\n",
    "    'License Holder Name':'License Holder',\n",
    "    \n",
    "}\n",
    "\n",
    "strDf.rename(columns=colMap, inplace=True)"
   ]
  },
  {
   "cell_type": "code",
   "execution_count": 15,
   "id": "70db207b-6213-4a8c-8897-daec1619389a",
   "metadata": {},
   "outputs": [],
   "source": [
    "outputObj = {col:strDf[col].to_list() for col in strDf.columns}"
   ]
  },
  {
   "cell_type": "code",
   "execution_count": null,
   "id": "0418e2fe-62ed-4e0e-9fdd-4ea01712afd2",
   "metadata": {},
   "outputs": [],
   "source": []
  },
  {
   "cell_type": "code",
   "execution_count": 16,
   "id": "ddd80d98-473d-4967-b86f-43fc6d7b72b0",
   "metadata": {},
   "outputs": [
    {
     "name": "stdout",
     "output_type": "stream",
     "text": [
      "Wall time: 203 ms\n"
     ]
    }
   ],
   "source": [
    "%%time\n",
    "\n",
    "with open('STRMapTemplate.html', 'r') as f:\n",
    "    templateHTML = f.read()\n",
    "    \n",
    "beginHTML, endHTML = templateHTML.split('DATA_ALL')\n",
    "\n",
    "with open('STRMap.html', 'w') as f:\n",
    "    f.write(beginHTML)\n",
    "    f.write(encoder(outputObj))\n",
    "    f.write(endHTML)"
   ]
  },
  {
   "cell_type": "code",
   "execution_count": 17,
   "id": "3b394a1c-4115-4c21-8978-0dd5191ea7d5",
   "metadata": {
    "scrolled": true,
    "tags": []
   },
   "outputs": [
    {
     "name": "stdout",
     "output_type": "stream",
     "text": [
      "Completed 256.0 KiB/7.5 MiB (142.3 KiB/s) with 1 file(s) remainingWall time: 32.4 s\n",
      "\n",
      "Completed 512.0 KiB/7.5 MiB (174.0 KiB/s) with 1 file(s) remaining\n",
      "Completed 768.0 KiB/7.5 MiB (191.3 KiB/s) with 1 file(s) remaining\n",
      "Completed 1.0 MiB/7.5 MiB (187.7 KiB/s) with 1 file(s) remaining  \n",
      "Completed 1.2 MiB/7.5 MiB (180.5 KiB/s) with 1 file(s) remaining  \n",
      "Completed 1.5 MiB/7.5 MiB (186.1 KiB/s) with 1 file(s) remaining  \n",
      "Completed 1.8 MiB/7.5 MiB (195.3 KiB/s) with 1 file(s) remaining  \n",
      "Completed 2.0 MiB/7.5 MiB (208.7 KiB/s) with 1 file(s) remaining  \n",
      "Completed 2.2 MiB/7.5 MiB (223.3 KiB/s) with 1 file(s) remaining  \n",
      "Completed 2.5 MiB/7.5 MiB (222.2 KiB/s) with 1 file(s) remaining  \n",
      "Completed 2.8 MiB/7.5 MiB (231.0 KiB/s) with 1 file(s) remaining  \n",
      "Completed 3.0 MiB/7.5 MiB (239.6 KiB/s) with 1 file(s) remaining  \n",
      "Completed 3.2 MiB/7.5 MiB (229.3 KiB/s) with 1 file(s) remaining  \n",
      "Completed 3.5 MiB/7.5 MiB (232.0 KiB/s) with 1 file(s) remaining  \n",
      "Completed 3.8 MiB/7.5 MiB (227.8 KiB/s) with 1 file(s) remaining  \n",
      "Completed 4.0 MiB/7.5 MiB (231.1 KiB/s) with 1 file(s) remaining  \n",
      "Completed 4.2 MiB/7.5 MiB (231.2 KiB/s) with 1 file(s) remaining  \n",
      "Completed 4.5 MiB/7.5 MiB (233.6 KiB/s) with 1 file(s) remaining  \n",
      "Completed 4.8 MiB/7.5 MiB (238.2 KiB/s) with 1 file(s) remaining  \n",
      "Completed 5.0 MiB/7.5 MiB (243.4 KiB/s) with 1 file(s) remaining  \n",
      "Completed 5.2 MiB/7.5 MiB (242.4 KiB/s) with 1 file(s) remaining  \n",
      "Completed 5.5 MiB/7.5 MiB (246.4 KiB/s) with 1 file(s) remaining  \n",
      "Completed 5.8 MiB/7.5 MiB (250.6 KiB/s) with 1 file(s) remaining  \n",
      "Completed 6.0 MiB/7.5 MiB (250.8 KiB/s) with 1 file(s) remaining  \n",
      "Completed 6.2 MiB/7.5 MiB (247.1 KiB/s) with 1 file(s) remaining  \n",
      "Completed 6.5 MiB/7.5 MiB (248.5 KiB/s) with 1 file(s) remaining  \n",
      "Completed 6.8 MiB/7.5 MiB (252.5 KiB/s) with 1 file(s) remaining  \n",
      "Completed 7.0 MiB/7.5 MiB (256.8 KiB/s) with 1 file(s) remaining  \n",
      "Completed 7.2 MiB/7.5 MiB (255.6 KiB/s) with 1 file(s) remaining  \n",
      "Completed 7.5 MiB/7.5 MiB (253.9 KiB/s) with 1 file(s) remaining  \n",
      "upload: .\\STRMap.html to s3://requesterpays.garyscorner.net/datasets/html/STRMap.html\n"
     ]
    }
   ],
   "source": [
    "%%time\n",
    "!aws s3 cp STRMap.html s3://requesterpays.garyscorner.net/datasets/html/"
   ]
  },
  {
   "cell_type": "code",
   "execution_count": 18,
   "id": "2dbe364d-e64d-4ae6-b811-6e2c3b3ac7f6",
   "metadata": {
    "tags": []
   },
   "outputs": [
    {
     "name": "stdout",
     "output_type": "stream",
     "text": [
      "Completed 7.5 MiB/7.5 MiB (10.1 MiB/s) with 1 file(s) remaining\n",
      "copy: s3://requesterpays.garyscorner.net/datasets/html/STRMap.html to s3://filestogeaux.garyscorner.net/pub/STRMap.html\n"
     ]
    }
   ],
   "source": [
    "#https://s3.amazonaws.com/filestogeaux.garyscorner.net/pub/STRMap.html\n",
    "!aws s3 cp s3://requesterpays.garyscorner.net/datasets/html/STRMap.html s3://filestogeaux.garyscorner.net/pub/ --acl public-read"
   ]
  },
  {
   "cell_type": "code",
   "execution_count": 19,
   "id": "b1869a6f-a4e1-4392-a766-89ed6ac8867f",
   "metadata": {},
   "outputs": [
    {
     "name": "stdout",
     "output_type": "stream",
     "text": [
      "Finished 2023-07-24 01:21:35.917090\n"
     ]
    }
   ],
   "source": [
    "print(f\"Finished {datetime.now()}\")"
   ]
  },
  {
   "cell_type": "code",
   "execution_count": null,
   "id": "9153d1ff-52aa-4403-b0a0-5d36fdacbe20",
   "metadata": {},
   "outputs": [],
   "source": []
  }
 ],
 "metadata": {
  "kernelspec": {
   "display_name": "Python 3 (ipykernel)",
   "language": "python",
   "name": "python3"
  },
  "language_info": {
   "codemirror_mode": {
    "name": "ipython",
    "version": 3
   },
   "file_extension": ".py",
   "mimetype": "text/x-python",
   "name": "python",
   "nbconvert_exporter": "python",
   "pygments_lexer": "ipython3",
   "version": "3.10.1"
  }
 },
 "nbformat": 4,
 "nbformat_minor": 5
}
