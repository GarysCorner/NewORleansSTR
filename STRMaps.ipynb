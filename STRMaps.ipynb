{
 "cells": [
  {
   "cell_type": "markdown",
   "id": "40b11d96-6004-497f-b465-caf0883aa86d",
   "metadata": {},
   "source": [
    "# STRMaps\n",
    "\n",
    "You can view the map at https://s3.amazonaws.com/filestogeaux.garyscorner.net/pub/STRMap.html FOR NOW\n",
    "File will remain at s3://requesterpays.garyscorner.net/datasets/html/  (requester pays use AWS CLI [--request-payer requester])\n",
    "\n",
    "Datasets:\n",
    "* https://data.nola.gov/Housing-Land-Use-and-Blight/Map-of-Short-Term-Rental-Licenses/j5u3-2ueh"
   ]
  },
  {
   "cell_type": "code",
   "execution_count": 1,
   "id": "87492c57-5020-42fc-98b2-c95bc3d9d8fb",
   "metadata": {},
   "outputs": [],
   "source": [
    "import pandas as pd\n",
    "import folium\n",
    "import numpy as np\n",
    "import folium.plugins\n",
    "\n",
    "from io import StringIO\n",
    "\n",
    "from json import JSONEncoder\n",
    "encoder = JSONEncoder().encode\n",
    "\n",
    "from datetime import datetime"
   ]
  },
  {
   "cell_type": "code",
   "execution_count": 2,
   "id": "11a26c06-dcf2-4eec-b8d9-1e98a6c49a6d",
   "metadata": {},
   "outputs": [
    {
     "name": "stderr",
     "output_type": "stream",
     "text": [
      "  % Total    % Received % Xferd  Average Speed   Time    Time     Time  Current\n",
      "                                 Dload  Upload   Total   Spent    Left  Speed\n",
      "\n",
      "  0     0    0     0    0     0      0      0 --:--:-- --:--:-- --:--:--     0\n",
      "  0     0    0     0    0     0      0      0 --:--:-- --:--:-- --:--:--     0\n",
      "100 1198k    0 1198k    0     0   969k      0 --:--:--  0:00:01 --:--:--  970k\n",
      "100 8477k    0 8477k    0     0  3776k      0 --:--:--  0:00:02 --:--:-- 3777k\n",
      "100 9317k    0 9317k    0     0  3918k      0 --:--:--  0:00:02 --:--:-- 3920k\n"
     ]
    }
   ],
   "source": [
    "! curl https://data.nola.gov/api/views/en36-xvxg/rows.csv?accessType=DOWNLOAD -o DataSets\\Short-Term_Rental_Permit_Applications.csv"
   ]
  },
  {
   "cell_type": "code",
   "execution_count": 3,
   "id": "ee503b51-bf0c-463d-b754-554fb952ae12",
   "metadata": {},
   "outputs": [],
   "source": [
    "strDf = pd.read_csv(\"./DataSets/Short-Term_Rental_Permit_Applications.csv\")"
   ]
  },
  {
   "cell_type": "code",
   "execution_count": 4,
   "id": "ebfaeca9-755d-4676-bdd2-30dad2b2eeb9",
   "metadata": {},
   "outputs": [],
   "source": [
    "#drop without location\n",
    "strDf = strDf[ strDf['X'] > 0.0]"
   ]
  },
  {
   "cell_type": "code",
   "execution_count": 5,
   "id": "4138b28c-3c6b-48d1-97d8-2b95adc47657",
   "metadata": {},
   "outputs": [],
   "source": [
    "strDf.drop(columns=['X','Y', 'Link'],inplace=True)"
   ]
  },
  {
   "cell_type": "code",
   "execution_count": 6,
   "id": "764788f3-eb63-4c1b-ad78-4bd95999e253",
   "metadata": {},
   "outputs": [],
   "source": [
    "#drop dups and withdrawn\n",
    "strDf = strDf[ ~(strDf['Current Status'].isin(['Duplicate','Withdrawn'])) ]"
   ]
  },
  {
   "cell_type": "code",
   "execution_count": 7,
   "id": "9f8c380b-1375-49dd-a1e2-7107fd35be72",
   "metadata": {},
   "outputs": [
    {
     "data": {
      "text/plain": [
       "array(['Denied', 'Expired', 'Pending', 'Revoked', 'Issued'], dtype=object)"
      ]
     },
     "execution_count": 7,
     "metadata": {},
     "output_type": "execute_result"
    }
   ],
   "source": [
    "strDf['Current Status'].unique()"
   ]
  },
  {
   "cell_type": "code",
   "execution_count": 8,
   "id": "c0a56dbd-45d0-46a5-966e-1aacf8d9664e",
   "metadata": {},
   "outputs": [],
   "source": [
    "#this is done in javascript now\n",
    "#strDf['Link'] = strDf['Link'].map(lambda url:  f\"<a target='_blank' href='{url}'>One Stop App</a>\")"
   ]
  },
  {
   "cell_type": "code",
   "execution_count": 9,
   "id": "a5e6d3cb-1548-4bde-8f17-e8a680acde12",
   "metadata": {},
   "outputs": [
    {
     "name": "stdout",
     "output_type": "stream",
     "text": [
      "Wall time: 37.8 ms\n"
     ]
    }
   ],
   "source": [
    "%%time\n",
    "\n",
    "def getPoints(val):\n",
    "    try:\n",
    "        \n",
    "        lat,lon = val[1:-1].split(', ')\n",
    "        lon = float(lon)\n",
    "        lat = float(lat)\n",
    "        pt = (lat,lon)\n",
    "        \n",
    "    except Exception as e:\n",
    "        print(val)\n",
    "        raise(e)\n",
    "        \n",
    "    return pt\n",
    "\n",
    "strDf['Location'] = strDf['Location'].map(getPoints)\n"
   ]
  },
  {
   "cell_type": "code",
   "execution_count": 10,
   "id": "69e2b4d0-a5d3-46cf-811b-84ede43633c5",
   "metadata": {},
   "outputs": [],
   "source": [
    "#now done in javascript\n",
    "#strDf['Address'] = strDf.apply(lambda a: f\"<a target='_blank' href='http://maps.google.com/maps?q=&layer=c&cbll={a['Location'][0]},{a['Location'][1]}'>{a['Address']}</a>\",axis=1)"
   ]
  },
  {
   "cell_type": "code",
   "execution_count": 11,
   "id": "90db0ad9-b3be-428e-b730-770b2b099383",
   "metadata": {},
   "outputs": [
    {
     "data": {
      "text/plain": [
       "Expired    14323\n",
       "Denied      7429\n",
       "Pending     3992\n",
       "Issued      2315\n",
       "Revoked      143\n",
       "Name: Current Status, dtype: int64"
      ]
     },
     "execution_count": 11,
     "metadata": {},
     "output_type": "execute_result"
    }
   ],
   "source": [
    "strDf['Current Status'].value_counts()"
   ]
  },
  {
   "cell_type": "code",
   "execution_count": 12,
   "id": "e2f793b9-102c-41cc-b15d-e026f9d5f075",
   "metadata": {},
   "outputs": [],
   "source": [
    "statusList = list(np.unique(strDf['Current Status']))"
   ]
  },
  {
   "cell_type": "raw",
   "id": "019fc717-54a5-467d-a780-c94610bf2bce",
   "metadata": {
    "tags": []
   },
   "source": [
    "%%time\n",
    "map.save('STRMapTemplateNew.html')"
   ]
  },
  {
   "cell_type": "code",
   "execution_count": 13,
   "id": "77766932-05d3-46c1-a073-7ce8898c2384",
   "metadata": {},
   "outputs": [],
   "source": [
    "colMap = {\n",
    "    'Guest Occupancy Limit':'Guest Limit',\n",
    "    'License Holder Name':'License Holder',\n",
    "    \n",
    "}\n",
    "\n",
    "strDf.rename(columns=colMap, inplace=True)"
   ]
  },
  {
   "cell_type": "code",
   "execution_count": 14,
   "id": "70db207b-6213-4a8c-8897-daec1619389a",
   "metadata": {},
   "outputs": [],
   "source": [
    "outputObj = {col:strDf[col].to_list() for col in strDf.columns}"
   ]
  },
  {
   "cell_type": "code",
   "execution_count": null,
   "id": "0418e2fe-62ed-4e0e-9fdd-4ea01712afd2",
   "metadata": {},
   "outputs": [],
   "source": []
  },
  {
   "cell_type": "code",
   "execution_count": 15,
   "id": "ddd80d98-473d-4967-b86f-43fc6d7b72b0",
   "metadata": {},
   "outputs": [
    {
     "name": "stdout",
     "output_type": "stream",
     "text": [
      "Wall time: 189 ms\n"
     ]
    }
   ],
   "source": [
    "%%time\n",
    "\n",
    "with open('STRMapTemplate.html', 'r') as f:\n",
    "    templateHTML = f.read()\n",
    "    \n",
    "beginHTML, endHTML = templateHTML.split('DATA_ALL')\n",
    "\n",
    "with open('STRMap.html', 'w') as f:\n",
    "    f.write(beginHTML)\n",
    "    f.write(encoder(outputObj))\n",
    "    f.write(endHTML)"
   ]
  },
  {
   "cell_type": "code",
   "execution_count": 16,
   "id": "6b57cd89-fb05-41c0-8d08-d07160801788",
   "metadata": {
    "scrolled": true,
    "tags": []
   },
   "outputs": [
    {
     "name": "stdout",
     "output_type": "stream",
     "text": [
      "Completed 256.0 KiB/7.5 MiB (362.3 KiB/s) with 1 file(s) remaining\n",
      "Completed 512.0 KiB/7.5 MiB (568.8 KiB/s) with 1 file(s) remaining\n",
      "Completed 768.0 KiB/7.5 MiB (701.6 KiB/s) with 1 file(s) remaining\n",
      "Completed 1.0 MiB/7.5 MiB (795.4 KiB/s) with 1 file(s) remaining  \n",
      "Completed 1.2 MiB/7.5 MiB (862.7 KiB/s) with 1 file(s) remaining  \n",
      "Completed 1.5 MiB/7.5 MiB (914.8 KiB/s) with 1 file(s) remaining  \n",
      "Completed 1.8 MiB/7.5 MiB (957.8 KiB/s) with 1 file(s) remaining  \n",
      "Completed 2.0 MiB/7.5 MiB (985.5 KiB/s) with 1 file(s) remaining  \n",
      "Completed 2.2 MiB/7.5 MiB (1004.0 KiB/s) with 1 file(s) remaining \n",
      "Completed 2.5 MiB/7.5 MiB (1013.8 KiB/s) with 1 file(s) remaining \n",
      "Completed 2.8 MiB/7.5 MiB (1.0 MiB/s) with 1 file(s) remaining    \n",
      "Completed 3.0 MiB/7.5 MiB (1.0 MiB/s) with 1 file(s) remaining    \n",
      "Completed 3.2 MiB/7.5 MiB (1.0 MiB/s) with 1 file(s) remaining    \n",
      "Completed 3.5 MiB/7.5 MiB (1.1 MiB/s) with 1 file(s) remaining    \n",
      "Completed 3.8 MiB/7.5 MiB (1.1 MiB/s) with 1 file(s) remaining    \n",
      "Completed 4.0 MiB/7.5 MiB (1.1 MiB/s) with 1 file(s) remaining    \n",
      "Completed 4.2 MiB/7.5 MiB (1.1 MiB/s) with 1 file(s) remaining    \n",
      "Completed 4.5 MiB/7.5 MiB (1.1 MiB/s) with 1 file(s) remaining    \n",
      "Completed 4.8 MiB/7.5 MiB (1.1 MiB/s) with 1 file(s) remaining    \n",
      "Completed 5.0 MiB/7.5 MiB (1.1 MiB/s) with 1 file(s) remaining    \n",
      "Completed 5.2 MiB/7.5 MiB (1.1 MiB/s) with 1 file(s) remaining    \n",
      "Completed 5.5 MiB/7.5 MiB (1.1 MiB/s) with 1 file(s) remaining    \n",
      "Completed 5.8 MiB/7.5 MiB (1.1 MiB/s) with 1 file(s) remaining    \n",
      "Completed 6.0 MiB/7.5 MiB (1.1 MiB/s) with 1 file(s) remaining    \n",
      "Completed 6.2 MiB/7.5 MiB (1.2 MiB/s) with 1 file(s) remaining    \n",
      "Completed 6.5 MiB/7.5 MiB (1.2 MiB/s) with 1 file(s) remaining    \n",
      "Completed 6.8 MiB/7.5 MiB (1.2 MiB/s) with 1 file(s) remaining    \n",
      "Completed 7.0 MiB/7.5 MiB (1.2 MiB/s) with 1 file(s) remaining    \n",
      "Completed 7.2 MiB/7.5 MiB (1.2 MiB/s) with 1 file(s) remaining    \n",
      "Completed 7.5 MiB/7.5 MiB (1.2 MiB/s) with 1 file(s) remaining    \n",
      "Completed 7.5 MiB/7.5 MiB (1.2 MiB/s) with 1 file(s) remaining    \n",
      "upload: .\\STRMap.html to s3://requesterpays.garyscorner.net/datasets/html/STRMap.html\n",
      "Wall time: 8.39 s\n"
     ]
    }
   ],
   "source": [
    "%%time\n",
    "!aws s3 cp STRMap.html s3://requesterpays.garyscorner.net/datasets/html/"
   ]
  },
  {
   "cell_type": "code",
   "execution_count": 17,
   "id": "79199a03-8b03-4989-b6ce-0b53017058e8",
   "metadata": {
    "tags": []
   },
   "outputs": [
    {
     "name": "stdout",
     "output_type": "stream",
     "text": [
      "Completed 7.5 MiB/7.5 MiB (14.6 MiB/s) with 1 file(s) remaining\n",
      "copy: s3://requesterpays.garyscorner.net/datasets/html/STRMap.html to s3://filestogeaux.garyscorner.net/pub/STRMap.html\n"
     ]
    }
   ],
   "source": [
    "#https://s3.amazonaws.com/filestogeaux.garyscorner.net/pub/STRMap.html\n",
    "!aws s3 cp s3://requesterpays.garyscorner.net/datasets/html/STRMap.html s3://filestogeaux.garyscorner.net/pub/ --acl public-read"
   ]
  },
  {
   "cell_type": "code",
   "execution_count": 18,
   "id": "b1869a6f-a4e1-4392-a766-89ed6ac8867f",
   "metadata": {},
   "outputs": [
    {
     "name": "stdout",
     "output_type": "stream",
     "text": [
      "Finished 2023-08-02 14:53:42.609443\n"
     ]
    }
   ],
   "source": [
    "print(f\"Finished {datetime.now()}\")"
   ]
  }
 ],
 "metadata": {
  "kernelspec": {
   "display_name": "Python 3 (ipykernel)",
   "language": "python",
   "name": "python3"
  },
  "language_info": {
   "codemirror_mode": {
    "name": "ipython",
    "version": 3
   },
   "file_extension": ".py",
   "mimetype": "text/x-python",
   "name": "python",
   "nbconvert_exporter": "python",
   "pygments_lexer": "ipython3",
   "version": "3.10.1"
  }
 },
 "nbformat": 4,
 "nbformat_minor": 5
}
