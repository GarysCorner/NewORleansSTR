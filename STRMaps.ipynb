{
 "cells": [
  {
   "cell_type": "markdown",
   "id": "40b11d96-6004-497f-b465-caf0883aa86d",
   "metadata": {},
   "source": [
    "# STRMaps\n",
    "\n",
    "You can view the map at https://s3.amazonaws.com/filestogeaux.garyscorner.net/pub/STRMap.html FOR NOW\n",
    "File will remain at s3://requesterpays.garyscorner.net/datasets/html/  (requester pays use AWS CLI [--request-payer requester])\n",
    "\n",
    "Datasets:\n",
    "* https://data.nola.gov/Housing-Land-Use-and-Blight/Map-of-Short-Term-Rental-Licenses/j5u3-2ueh"
   ]
  },
  {
   "cell_type": "code",
   "execution_count": 1,
   "id": "87492c57-5020-42fc-98b2-c95bc3d9d8fb",
   "metadata": {},
   "outputs": [],
   "source": [
    "import pandas as pd\n",
    "import folium\n",
    "import numpy as np\n",
    "import folium.plugins\n",
    "\n",
    "from io import StringIO\n",
    "\n",
    "from json import JSONEncoder\n",
    "encoder = JSONEncoder().encode\n",
    "\n",
    "from datetime import datetime"
   ]
  },
  {
   "cell_type": "code",
   "execution_count": 2,
   "id": "11a26c06-dcf2-4eec-b8d9-1e98a6c49a6d",
   "metadata": {},
   "outputs": [
    {
     "name": "stdout",
     "output_type": "stream",
     "text": [
      "  % Total    % Received % Xferd  Average Speed   Time    Time     Time  Current\n",
      "                                 Dload  Upload   Total   Spent    Left  Speed\n",
      "100 10.5M    0 10.5M    0     0  3763k      0 --:--:--  0:00:02 --:--:-- 3763k\n"
     ]
    }
   ],
   "source": [
    "! curl https://data.nola.gov/api/views/en36-xvxg/rows.csv?accessType=DOWNLOAD -o DataSets/Short-Term_Rental_Permit_Applications.csv"
   ]
  },
  {
   "cell_type": "code",
   "execution_count": 3,
   "id": "ee503b51-bf0c-463d-b754-554fb952ae12",
   "metadata": {},
   "outputs": [],
   "source": [
    "strDf = pd.read_csv(\"./DataSets/Short-Term_Rental_Permit_Applications.csv\")"
   ]
  },
  {
   "cell_type": "code",
   "execution_count": 4,
   "id": "ebfaeca9-755d-4676-bdd2-30dad2b2eeb9",
   "metadata": {},
   "outputs": [],
   "source": [
    "#drop without location\n",
    "strDf = strDf[ strDf['X'] > 0.0]"
   ]
  },
  {
   "cell_type": "code",
   "execution_count": 5,
   "id": "4138b28c-3c6b-48d1-97d8-2b95adc47657",
   "metadata": {},
   "outputs": [],
   "source": [
    "strDf.drop(columns=['X','Y', 'Link'],inplace=True)"
   ]
  },
  {
   "cell_type": "code",
   "execution_count": 6,
   "id": "764788f3-eb63-4c1b-ad78-4bd95999e253",
   "metadata": {},
   "outputs": [],
   "source": [
    "#drop dups and withdrawn\n",
    "strDf = strDf[ ~(strDf['Current Status'].isin(['Duplicate','Withdrawn'])) ]"
   ]
  },
  {
   "cell_type": "code",
   "execution_count": 7,
   "id": "9f8c380b-1375-49dd-a1e2-7107fd35be72",
   "metadata": {},
   "outputs": [
    {
     "data": {
      "text/plain": [
       "array(['Expired', 'Denied', 'Pending', 'Revoked', 'Issued'], dtype=object)"
      ]
     },
     "execution_count": 7,
     "metadata": {},
     "output_type": "execute_result"
    }
   ],
   "source": [
    "strDf['Current Status'].unique()"
   ]
  },
  {
   "cell_type": "code",
   "execution_count": 8,
   "id": "c0a56dbd-45d0-46a5-966e-1aacf8d9664e",
   "metadata": {},
   "outputs": [],
   "source": [
    "#this is done in javascript now\n",
    "#strDf['Link'] = strDf['Link'].map(lambda url:  f\"<a target='_blank' href='{url}'>One Stop App</a>\")"
   ]
  },
  {
   "cell_type": "code",
   "execution_count": 9,
   "id": "a5e6d3cb-1548-4bde-8f17-e8a680acde12",
   "metadata": {},
   "outputs": [
    {
     "name": "stdout",
     "output_type": "stream",
     "text": [
      "CPU times: user 79 ms, sys: 4 ms, total: 82.9 ms\n",
      "Wall time: 83.4 ms\n"
     ]
    }
   ],
   "source": [
    "%%time\n",
    "\n",
    "def getPoints(val):\n",
    "    try:\n",
    "        \n",
    "        lat,lon = val[1:-1].split(', ')\n",
    "        lon = float(lon)\n",
    "        lat = float(lat)\n",
    "        pt = (lat,lon)\n",
    "        \n",
    "    except Exception as e:\n",
    "        print(val)\n",
    "        raise(e)\n",
    "        \n",
    "    return pt\n",
    "\n",
    "strDf['Location'] = strDf['Location'].map(getPoints)\n"
   ]
  },
  {
   "cell_type": "code",
   "execution_count": 10,
   "id": "69e2b4d0-a5d3-46cf-811b-84ede43633c5",
   "metadata": {},
   "outputs": [],
   "source": [
    "#now done in javascript\n",
    "#strDf['Address'] = strDf.apply(lambda a: f\"<a target='_blank' href='http://maps.google.com/maps?q=&layer=c&cbll={a['Location'][0]},{a['Location'][1]}'>{a['Address']}</a>\",axis=1)"
   ]
  },
  {
   "cell_type": "code",
   "execution_count": 11,
   "id": "90db0ad9-b3be-428e-b730-770b2b099383",
   "metadata": {},
   "outputs": [
    {
     "data": {
      "text/plain": [
       "Current Status\n",
       "Expired    18689\n",
       "Denied      8025\n",
       "Pending     3468\n",
       "Issued      2269\n",
       "Revoked      145\n",
       "Name: count, dtype: int64"
      ]
     },
     "execution_count": 11,
     "metadata": {},
     "output_type": "execute_result"
    }
   ],
   "source": [
    "strDf['Current Status'].value_counts()"
   ]
  },
  {
   "cell_type": "code",
   "execution_count": 12,
   "id": "47a35d1b-ede5-48fa-8d09-db0eba20c7bc",
   "metadata": {},
   "outputs": [
    {
     "data": {
      "text/plain": [
       "(Timestamp('2025-08-07 00:00:00'), 3)"
      ]
     },
     "execution_count": 12,
     "metadata": {},
     "output_type": "execute_result"
    }
   ],
   "source": [
    "issueDates = pd.to_datetime(strDf['Issue_Date'])\n",
    "issueDatesMax = issueDates.max()\n",
    "\n",
    "(issueDatesMax, np.count_nonzero(issueDates == issueDatesMax))"
   ]
  },
  {
   "cell_type": "code",
   "execution_count": 13,
   "id": "e2f793b9-102c-41cc-b15d-e026f9d5f075",
   "metadata": {},
   "outputs": [],
   "source": [
    "statusList = list(np.unique(strDf['Current Status']))"
   ]
  },
  {
   "cell_type": "raw",
   "id": "019fc717-54a5-467d-a780-c94610bf2bce",
   "metadata": {
    "tags": []
   },
   "source": [
    "%%time\n",
    "map.save('STRMapTemplateNew.html')"
   ]
  },
  {
   "cell_type": "code",
   "execution_count": 14,
   "id": "77766932-05d3-46c1-a073-7ce8898c2384",
   "metadata": {},
   "outputs": [],
   "source": [
    "colMap = {\n",
    "    'Guest Occupancy Limit':'Guest Limit',\n",
    "    'License Holder Name':'License Holder',\n",
    "    \n",
    "}\n",
    "\n",
    "strDf.rename(columns=colMap, inplace=True)"
   ]
  },
  {
   "cell_type": "raw",
   "id": "cfa50e2c-9e34-4300-8b8d-7c1b66f6fa0c",
   "metadata": {},
   "source": [
    "#for testing\n",
    "outputObj = {col:strDf[col].to_list()[:20] for col in strDf.columns} \n"
   ]
  },
  {
   "cell_type": "code",
   "execution_count": 15,
   "id": "730aef31-dbcd-44d8-9569-e682eb911c91",
   "metadata": {},
   "outputs": [],
   "source": [
    "#for production\n",
    "outputObj = {col:strDf[col].to_list() for col in strDf.columns}"
   ]
  },
  {
   "cell_type": "code",
   "execution_count": 16,
   "id": "a7cbbb2e-f29c-427b-b931-5585c3da2ecf",
   "metadata": {},
   "outputs": [],
   "source": [
    "config = {'lastUpdated':datetime.now().strftime('%A %B %m %Y')}"
   ]
  },
  {
   "cell_type": "code",
   "execution_count": 17,
   "id": "0ef7901e-95e6-4916-b05b-af4cbfd51481",
   "metadata": {},
   "outputs": [],
   "source": [
    "outputWrapper = {'config':config,'data':outputObj}"
   ]
  },
  {
   "cell_type": "code",
   "execution_count": 18,
   "id": "ddd80d98-473d-4967-b86f-43fc6d7b72b0",
   "metadata": {},
   "outputs": [
    {
     "name": "stdout",
     "output_type": "stream",
     "text": [
      "CPU times: user 100 ms, sys: 8.69 ms, total: 109 ms\n",
      "Wall time: 109 ms\n"
     ]
    }
   ],
   "source": [
    "%%time\n",
    "\n",
    "with open('STRMapTemplate.html', 'r') as f:\n",
    "    templateHTML = f.read()\n",
    "\n",
    "templateHTML.replace('%DATETIME%', str(datetime.now()))\n",
    "    \n",
    "beginHTML, endHTML = templateHTML.split('DATA_ALL')\n",
    "\n",
    "with open('STRMap.html', 'w') as f:\n",
    "    f.write(beginHTML)\n",
    "    f.write(encoder(outputWrapper))\n",
    "    f.write(endHTML)"
   ]
  },
  {
   "cell_type": "code",
   "execution_count": 19,
   "id": "104a9ced-4cd4-4a73-af3d-9aac955416e5",
   "metadata": {},
   "outputs": [
    {
     "name": "stdout",
     "output_type": "stream",
     "text": [
      "-rw-r--r-- 1 g g 8.8M Aug  8 08:34 STRMap.html\n"
     ]
    }
   ],
   "source": [
    "!ls -lh STRMap.html"
   ]
  },
  {
   "cell_type": "code",
   "execution_count": 20,
   "id": "6b57cd89-fb05-41c0-8d08-d07160801788",
   "metadata": {
    "scrolled": true,
    "tags": []
   },
   "outputs": [
    {
     "name": "stdout",
     "output_type": "stream",
     "text": [
      "upload: ./STRMap.html to s3://requesterpays.garyscorner.net/datasets/html/STRMap.html\n",
      "CPU times: user 595 ms, sys: 142 ms, total: 737 ms\n",
      "Wall time: 22.6 s\n"
     ]
    }
   ],
   "source": [
    "%%time\n",
    "!aws s3 cp STRMap.html s3://requesterpays.garyscorner.net/datasets/html/"
   ]
  },
  {
   "cell_type": "code",
   "execution_count": 21,
   "id": "1e949d6b-fb69-4496-b7f0-d875d90d1501",
   "metadata": {
    "tags": []
   },
   "outputs": [
    {
     "name": "stdout",
     "output_type": "stream",
     "text": [
      "copy: s3://requesterpays.garyscorner.net/datasets/html/STRMap.html to s3://filestogeaux.garyscorner.net/pub/STRMap.html\n"
     ]
    }
   ],
   "source": [
    "#https://s3.amazonaws.com/filestogeaux.garyscorner.net/pub/STRMap.html\n",
    "!aws s3 cp s3://requesterpays.garyscorner.net/datasets/html/STRMap.html s3://filestogeaux.garyscorner.net/pub/ --acl public-read"
   ]
  },
  {
   "cell_type": "code",
   "execution_count": 22,
   "id": "b1869a6f-a4e1-4392-a766-89ed6ac8867f",
   "metadata": {},
   "outputs": [
    {
     "name": "stdout",
     "output_type": "stream",
     "text": [
      "Finished 2025-08-08 08:34:47.971487\n"
     ]
    }
   ],
   "source": [
    "print(f\"Finished {datetime.now()}\")"
   ]
  },
  {
   "cell_type": "code",
   "execution_count": null,
   "id": "67644c6a-58d0-47bd-bcae-015817531b5b",
   "metadata": {},
   "outputs": [],
   "source": []
  }
 ],
 "metadata": {
  "kernelspec": {
   "display_name": "Python 3 (ipykernel)",
   "language": "python",
   "name": "python3"
  },
  "language_info": {
   "codemirror_mode": {
    "name": "ipython",
    "version": 3
   },
   "file_extension": ".py",
   "mimetype": "text/x-python",
   "name": "python",
   "nbconvert_exporter": "python",
   "pygments_lexer": "ipython3",
   "version": "3.11.2"
  }
 },
 "nbformat": 4,
 "nbformat_minor": 5
}
